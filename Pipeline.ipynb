{
 "cells": [
  {
   "cell_type": "code",
   "execution_count": 2,
   "id": "8c467b07-0903-463c-92f0-fe56641a3169",
   "metadata": {
    "collapsed": true,
    "jupyter": {
     "outputs_hidden": true
    },
    "tags": []
   },
   "outputs": [
    {
     "name": "stdout",
     "output_type": "stream",
     "text": [
      "Requirement already satisfied: sagemaker in /opt/conda/lib/python3.7/site-packages (2.116.0)\n",
      "Requirement already satisfied: numpy<2.0,>=1.9.0 in /opt/conda/lib/python3.7/site-packages (from sagemaker) (1.21.6)\n",
      "Requirement already satisfied: smdebug-rulesconfig==1.0.1 in /opt/conda/lib/python3.7/site-packages (from sagemaker) (1.0.1)\n",
      "Requirement already satisfied: pandas in /opt/conda/lib/python3.7/site-packages (from sagemaker) (1.3.5)\n",
      "Requirement already satisfied: protobuf3-to-dict<1.0,>=0.1.5 in /opt/conda/lib/python3.7/site-packages (from sagemaker) (0.1.5)\n",
      "Requirement already satisfied: importlib-metadata<5.0,>=1.4.0 in /opt/conda/lib/python3.7/site-packages (from sagemaker) (4.12.0)\n",
      "Requirement already satisfied: protobuf<4.0,>=3.1 in /opt/conda/lib/python3.7/site-packages (from sagemaker) (3.20.1)\n",
      "Requirement already satisfied: packaging>=20.0 in /opt/conda/lib/python3.7/site-packages (from sagemaker) (20.1)\n",
      "Requirement already satisfied: boto3<2.0,>=1.20.21 in /opt/conda/lib/python3.7/site-packages (from sagemaker) (1.24.62)\n",
      "Requirement already satisfied: schema in /opt/conda/lib/python3.7/site-packages (from sagemaker) (0.7.5)\n",
      "Requirement already satisfied: google-pasta in /opt/conda/lib/python3.7/site-packages (from sagemaker) (0.2.0)\n",
      "Requirement already satisfied: attrs<23,>=20.3.0 in /opt/conda/lib/python3.7/site-packages (from sagemaker) (21.4.0)\n",
      "Requirement already satisfied: pathos in /opt/conda/lib/python3.7/site-packages (from sagemaker) (0.2.9)\n",
      "Requirement already satisfied: jmespath<2.0.0,>=0.7.1 in /opt/conda/lib/python3.7/site-packages (from boto3<2.0,>=1.20.21->sagemaker) (1.0.1)\n",
      "Requirement already satisfied: botocore<1.28.0,>=1.27.62 in /opt/conda/lib/python3.7/site-packages (from boto3<2.0,>=1.20.21->sagemaker) (1.27.62)\n",
      "Requirement already satisfied: s3transfer<0.7.0,>=0.6.0 in /opt/conda/lib/python3.7/site-packages (from boto3<2.0,>=1.20.21->sagemaker) (0.6.0)\n",
      "Requirement already satisfied: zipp>=0.5 in /opt/conda/lib/python3.7/site-packages (from importlib-metadata<5.0,>=1.4.0->sagemaker) (3.8.1)\n",
      "Requirement already satisfied: typing-extensions>=3.6.4 in /opt/conda/lib/python3.7/site-packages (from importlib-metadata<5.0,>=1.4.0->sagemaker) (4.3.0)\n",
      "Requirement already satisfied: six in /opt/conda/lib/python3.7/site-packages (from packaging>=20.0->sagemaker) (1.14.0)\n",
      "Requirement already satisfied: pyparsing>=2.0.2 in /opt/conda/lib/python3.7/site-packages (from packaging>=20.0->sagemaker) (2.4.6)\n",
      "Requirement already satisfied: pytz>=2017.3 in /opt/conda/lib/python3.7/site-packages (from pandas->sagemaker) (2019.3)\n",
      "Requirement already satisfied: python-dateutil>=2.7.3 in /opt/conda/lib/python3.7/site-packages (from pandas->sagemaker) (2.8.1)\n",
      "Requirement already satisfied: dill>=0.3.5.1 in /opt/conda/lib/python3.7/site-packages (from pathos->sagemaker) (0.3.5.1)\n",
      "Requirement already satisfied: multiprocess>=0.70.13 in /opt/conda/lib/python3.7/site-packages (from pathos->sagemaker) (0.70.13)\n",
      "Requirement already satisfied: ppft>=1.7.6.5 in /opt/conda/lib/python3.7/site-packages (from pathos->sagemaker) (1.7.6.5)\n",
      "Requirement already satisfied: pox>=0.3.1 in /opt/conda/lib/python3.7/site-packages (from pathos->sagemaker) (0.3.1)\n",
      "Requirement already satisfied: contextlib2>=0.5.5 in /opt/conda/lib/python3.7/site-packages (from schema->sagemaker) (0.6.0.post1)\n",
      "Requirement already satisfied: urllib3<1.27,>=1.25.4 in /opt/conda/lib/python3.7/site-packages (from botocore<1.28.0,>=1.27.62->boto3<2.0,>=1.20.21->sagemaker) (1.26.12)\n",
      "\u001b[33mWARNING: Running pip as the 'root' user can result in broken permissions and conflicting behaviour with the system package manager. It is recommended to use a virtual environment instead: https://pip.pypa.io/warnings/venv\u001b[0m\u001b[33m\n",
      "\u001b[0m\n",
      "\u001b[1m[\u001b[0m\u001b[34;49mnotice\u001b[0m\u001b[1;39;49m]\u001b[0m\u001b[39;49m A new release of pip available: \u001b[0m\u001b[31;49m22.2.2\u001b[0m\u001b[39;49m -> \u001b[0m\u001b[32;49m22.3\u001b[0m\n",
      "\u001b[1m[\u001b[0m\u001b[34;49mnotice\u001b[0m\u001b[1;39;49m]\u001b[0m\u001b[39;49m To update, run: \u001b[0m\u001b[32;49mpip install --upgrade pip\u001b[0m\n"
     ]
    }
   ],
   "source": [
    "!pip install --upgrade sagemaker"
   ]
  },
  {
   "cell_type": "code",
   "execution_count": 4,
   "id": "39b43522-0882-446f-bb5b-ed77f7801de5",
   "metadata": {},
   "outputs": [
    {
     "name": "stdout",
     "output_type": "stream",
     "text": [
      "Writing pipeline.py\n"
     ]
    }
   ],
   "source": [
    "#%%writefile pipeline.py\n",
    "\n",
    "!pip install --upgrade sagemaker\n",
    "\n",
    "import boto3\n",
    "import sagemaker\n",
    "from sagemaker import get_execution_role\n",
    "from sagemaker.sklearn.processing import SKLearnProcessor\n",
    "\n",
    "region = boto3.session.Session().region_name\n",
    "\n",
    "role = get_execution_role()\n",
    "\n",
    "from sagemaker.sklearn.processing import SKLearnProcessor\n",
    "\n",
    "sklearn_processor = SKLearnProcessor(framework_version='1.0-1',\n",
    "                                     role=role,\n",
    "                                     instance_type='ml.m5.xlarge',\n",
    "                                     instance_count=1)\n",
    "\n",
    "\n",
    "input_data = \"s3://cloudthat-cs-bucket/CibilFalse.xml\"\n",
    "\n",
    "\n",
    "from sagemaker.processing import ProcessingInput, ProcessingOutput\n",
    "from sagemaker.workflow.steps import ProcessingStep\n",
    "    \n",
    "\n",
    "step_process = ProcessingStep(\n",
    "    name=\"XMLParsing-PreProcessing\",\n",
    "    inputs=[ProcessingInput(source=input_data, destination=\"/opt/ml/processing/input\")],\n",
    "     outputs=[\n",
    "        '''\n",
    "        ProcessingOutput(output_name=\"Header\", source=\"/opt/ml/processing/Header\"),\n",
    "        ProcessingOutput(output_name=\"NameSegment\", source=\"/opt/ml/processing/NameSegment\"),\n",
    "        ProcessingOutput(output_name=\"IDSegment\", source=\"/opt/ml/processing/IDSegment\"),        \n",
    "        ProcessingOutput(output_name=\"TelephoneSegment\", source=\"/opt/ml/processing/TelephoneSegment\"),\n",
    "        ProcessingOutput(output_name=\"EmailContactSegment\", source=\"/opt/ml/processing/EmailContactSegment\"),\n",
    "        ProcessingOutput(output_name=\"Address\", source=\"/opt/ml/processing/Address\"),\n",
    "        ProcessingOutput(output_name=\"ScoreSegment\", source=\"/opt/ml/processing/ScoreSegment\"),\n",
    "        ProcessingOutput(output_name=\"BureauCharacterstics\", source=\"/opt/ml/processing/BureauCharacterstics\"),\n",
    "        ProcessingOutput(output_name=\"Account_Final\", source=\"/opt/ml/processing/Account_Final\"),\n",
    "        '''\n",
    "         \n",
    "              ],  \n",
    "    code=\"preprocessing.py\",\n",
    "    processor=sklearn_processor\n",
    ")\n",
    "\n",
    "\n",
    "from sagemaker.workflow.pipeline import Pipeline\n",
    "\n",
    "processing_instance_count = 1\n",
    "\n",
    "pipeline_name = f\"XMLParsing-PreProcessing-Pipeline\"\n",
    "pipeline = Pipeline(\n",
    "    name=pipeline_name,\n",
    "    parameters=[\n",
    "        processing_instance_count],\n",
    "    steps=[step_process],\n",
    ")\n",
    "\n",
    "pipeline.upsert(role_arn=role)\n",
    "\n",
    "execution = pipeline.start()\n"
   ]
  },
  {
   "cell_type": "code",
   "execution_count": null,
   "id": "cc8af647-3639-47c7-b4a1-4b7961018e5d",
   "metadata": {},
   "outputs": [],
   "source": [
    "\n",
    "create_dataset_processor = SKLearnProcessor(\n",
    "    framework_version=\"0.23-1\",\n",
    "    role=sagemaker_role,\n",
    "    instance_type=\"ml.m5.xlarge\",\n",
    "    instance_count=1,\n",
    "    base_job_name=\"create-dataset\",\n",
    "    sagemaker_session=sagemaker_session,\n",
    ")\n",
    "\n",
    "create_dataset_stepProcessingStep = (\n",
    "    name=\"CreateDataset\",\n",
    "    processor=create_dataset_processor,\n",
    "    outputs=[\n",
    "        sagemaker.processing.ProcessingOutput(\n",
    "            output_name=\"train_data\", source=\"/opt/ml/processing/output/train\"\n",
    "        ),\n",
    "        sagemaker.processing.ProcessingOutput(\n",
    "            output_name=\"test_data\", source=\"/opt/ml/processing/output/test\"\n",
    "        ),\n",
    "    ],\n",
    "    code=create_dataset.py\",\n",
    ")"
   ]
  },
  {
   "cell_type": "code",
   "execution_count": null,
   "id": "59158634-80f3-46ba-892c-dec8b0c58f8f",
   "metadata": {},
   "outputs": [],
   "source": []
  },
  {
   "cell_type": "code",
   "execution_count": null,
   "id": "6a6b35b0-86a3-44ef-b156-8af999fe770e",
   "metadata": {},
   "outputs": [],
   "source": []
  },
  {
   "cell_type": "code",
   "execution_count": null,
   "id": "66a06c0b-9994-4aa5-9680-a718a258e8a9",
   "metadata": {},
   "outputs": [],
   "source": []
  },
  {
   "cell_type": "code",
   "execution_count": null,
   "id": "e4083a7d-a570-439a-bfdd-981005d4e9b9",
   "metadata": {},
   "outputs": [],
   "source": []
  },
  {
   "cell_type": "code",
   "execution_count": null,
   "id": "412a0b3a-d917-47d2-8b0d-d3ddb5ac8698",
   "metadata": {},
   "outputs": [],
   "source": []
  },
  {
   "cell_type": "code",
   "execution_count": null,
   "id": "032ae423-fcef-4374-b408-79f701776487",
   "metadata": {},
   "outputs": [],
   "source": []
  },
  {
   "cell_type": "code",
   "execution_count": 2,
   "id": "6932c301-8990-4773-b3cf-c6e1b0e67c2e",
   "metadata": {},
   "outputs": [],
   "source": [
    "\n",
    "import boto3\n",
    "import sagemaker\n",
    "from sagemaker import get_execution_role\n",
    "from sagemaker.sklearn.processing import SKLearnProcessor\n",
    "\n",
    "region = boto3.session.Session().region_name\n",
    "\n",
    "role = get_execution_role()\n"
   ]
  },
  {
   "cell_type": "code",
   "execution_count": 3,
   "id": "8746d007-a2da-4bfa-a821-8d73b9ac5b33",
   "metadata": {},
   "outputs": [
    {
     "data": {
      "text/plain": [
       "'2.116.0'"
      ]
     },
     "execution_count": 3,
     "metadata": {},
     "output_type": "execute_result"
    }
   ],
   "source": [
    "sagemaker.__version__"
   ]
  },
  {
   "cell_type": "code",
   "execution_count": 4,
   "id": "8d197dc3-30b1-4ba8-8fd0-ba1a16a11179",
   "metadata": {},
   "outputs": [],
   "source": [
    "from sagemaker.sklearn.processing import SKLearnProcessor\n",
    "\n",
    "sklearn_processor = SKLearnProcessor(framework_version='1.0-1',\n",
    "                                     role=role,\n",
    "                                     instance_type='ml.m5.xlarge',\n",
    "                                     instance_count=1)"
   ]
  },
  {
   "cell_type": "code",
   "execution_count": 5,
   "id": "7c76624e-0d8d-4a1f-988c-c3dd21070c7b",
   "metadata": {},
   "outputs": [],
   "source": [
    "\n",
    "input_data = \"s3://cloudthat-cs-bucket/CibilFalse.xml\"\n"
   ]
  },
  {
   "cell_type": "code",
   "execution_count": 6,
   "id": "05e3fcaf-958f-41e1-98ce-df29a2f5dbee",
   "metadata": {},
   "outputs": [],
   "source": [
    "\n",
    "from sagemaker.processing import ProcessingInput, ProcessingOutput\n",
    "from sagemaker.workflow.steps import ProcessingStep\n",
    "    \n",
    "\n",
    "step_process = ProcessingStep(\n",
    "    name=\"XMLParsing-PreProcessing\",\n",
    "    inputs=[ProcessingInput(source=input_data, destination=\"/opt/ml/processing/input\")],\n",
    "     outputs=[\n",
    "        \n",
    "        ProcessingOutput(output_name=\"Header\", source=\"/opt/ml/processing/Header\"),\n",
    "        ProcessingOutput(output_name=\"NameSegment\", source=\"/opt/ml/processing/NameSegment\"),\n",
    "        ProcessingOutput(output_name=\"IDSegment\", source=\"/opt/ml/processing/IDSegment\"),        \n",
    "        ProcessingOutput(output_name=\"TelephoneSegment\", source=\"/opt/ml/processing/TelephoneSegment\"),\n",
    "        ProcessingOutput(output_name=\"EmailContactSegment\", source=\"/opt/ml/processing/EmailContactSegment\"),\n",
    "        ProcessingOutput(output_name=\"Address\", source=\"/opt/ml/processing/Address\"),\n",
    "        ProcessingOutput(output_name=\"ScoreSegment\", source=\"/opt/ml/processing/ScoreSegment\"),\n",
    "        ProcessingOutput(output_name=\"BureauCharacterstics\", source=\"/opt/ml/processing/BureauCharacterstics\"),\n",
    "        ProcessingOutput(output_name=\"Account_Final\", source=\"/opt/ml/processing/Account_Final\"),\n",
    "\n",
    "         \n",
    "              ],  \n",
    "    code=\"preprocessing.py\",\n",
    "    processor=sklearn_processor\n",
    ")\n"
   ]
  },
  {
   "cell_type": "code",
   "execution_count": 7,
   "id": "10d97b06-96d2-449a-9646-a671edf37dfa",
   "metadata": {},
   "outputs": [],
   "source": [
    "\n",
    "from sagemaker.workflow.pipeline import Pipeline\n",
    "\n",
    "processing_instance_count = 1\n",
    "\n",
    "pipeline_name = f\"XMLParsing-PreProcessing-Pipeline\"\n",
    "pipeline = Pipeline(\n",
    "    name=pipeline_name,\n",
    "    parameters=[\n",
    "        processing_instance_count],\n",
    "    steps=[step_process],\n",
    ")\n"
   ]
  },
  {
   "cell_type": "code",
   "execution_count": 8,
   "id": "13c4dd3b-b03b-4d98-b436-bacf80c83d54",
   "metadata": {},
   "outputs": [
    {
     "data": {
      "text/plain": [
       "{'PipelineArn': 'arn:aws:sagemaker:us-east-2:971709774307:pipeline/xmlparsing-preprocessing-pipeline',\n",
       " 'ResponseMetadata': {'RequestId': '11f6c7c2-e126-42bf-8495-4bc1ebcd591c',\n",
       "  'HTTPStatusCode': 200,\n",
       "  'HTTPHeaders': {'x-amzn-requestid': '11f6c7c2-e126-42bf-8495-4bc1ebcd591c',\n",
       "   'content-type': 'application/x-amz-json-1.1',\n",
       "   'content-length': '101',\n",
       "   'date': 'Wed, 16 Nov 2022 12:38:45 GMT'},\n",
       "  'RetryAttempts': 0}}"
      ]
     },
     "execution_count": 8,
     "metadata": {},
     "output_type": "execute_result"
    }
   ],
   "source": [
    "pipeline.upsert(role_arn=role)"
   ]
  },
  {
   "cell_type": "code",
   "execution_count": 9,
   "id": "f24aa957-eaae-470f-8245-610e886a9871",
   "metadata": {},
   "outputs": [],
   "source": [
    "execution = pipeline.start()"
   ]
  },
  {
   "cell_type": "code",
   "execution_count": 14,
   "id": "b531b43f-fcbe-469a-ba0e-309e2eebd6e2",
   "metadata": {
    "tags": []
   },
   "outputs": [
    {
     "ename": "AttributeError",
     "evalue": "'str' object has no attribute 'write'",
     "output_type": "error",
     "traceback": [
      "\u001b[0;31m---------------------------------------------------------------------------\u001b[0m",
      "\u001b[0;31mAttributeError\u001b[0m                            Traceback (most recent call last)",
      "\u001b[0;32m<ipython-input-14-2319bea80806>\u001b[0m in \u001b[0;36m<module>\u001b[0;34m\u001b[0m\n\u001b[1;32m      1\u001b[0m \u001b[0mout\u001b[0m \u001b[0;34m=\u001b[0m \u001b[0mjson\u001b[0m\u001b[0;34m.\u001b[0m\u001b[0mloads\u001b[0m\u001b[0;34m(\u001b[0m\u001b[0mpipeline\u001b[0m\u001b[0;34m.\u001b[0m\u001b[0mdefinition\u001b[0m\u001b[0;34m(\u001b[0m\u001b[0;34m)\u001b[0m\u001b[0;34m)\u001b[0m\u001b[0;34m\u001b[0m\u001b[0;34m\u001b[0m\u001b[0m\n\u001b[0;32m----> 2\u001b[0;31m \u001b[0mjson\u001b[0m\u001b[0;34m.\u001b[0m\u001b[0mdump\u001b[0m\u001b[0;34m(\u001b[0m\u001b[0mjson\u001b[0m\u001b[0;34m.\u001b[0m\u001b[0mloads\u001b[0m\u001b[0;34m(\u001b[0m\u001b[0mpipeline\u001b[0m\u001b[0;34m.\u001b[0m\u001b[0mdefinition\u001b[0m\u001b[0;34m(\u001b[0m\u001b[0;34m)\u001b[0m\u001b[0;34m)\u001b[0m\u001b[0;34m,\u001b[0m \u001b[0;34m\"pipe.json\"\u001b[0m\u001b[0;34m)\u001b[0m\u001b[0;34m\u001b[0m\u001b[0;34m\u001b[0m\u001b[0m\n\u001b[0m",
      "\u001b[0;32m/opt/conda/lib/python3.7/json/__init__.py\u001b[0m in \u001b[0;36mdump\u001b[0;34m(obj, fp, skipkeys, ensure_ascii, check_circular, allow_nan, cls, indent, separators, default, sort_keys, **kw)\u001b[0m\n\u001b[1;32m    178\u001b[0m     \u001b[0;31m# a debuggability cost\u001b[0m\u001b[0;34m\u001b[0m\u001b[0;34m\u001b[0m\u001b[0;34m\u001b[0m\u001b[0m\n\u001b[1;32m    179\u001b[0m     \u001b[0;32mfor\u001b[0m \u001b[0mchunk\u001b[0m \u001b[0;32min\u001b[0m \u001b[0miterable\u001b[0m\u001b[0;34m:\u001b[0m\u001b[0;34m\u001b[0m\u001b[0;34m\u001b[0m\u001b[0m\n\u001b[0;32m--> 180\u001b[0;31m         \u001b[0mfp\u001b[0m\u001b[0;34m.\u001b[0m\u001b[0mwrite\u001b[0m\u001b[0;34m(\u001b[0m\u001b[0mchunk\u001b[0m\u001b[0;34m)\u001b[0m\u001b[0;34m\u001b[0m\u001b[0;34m\u001b[0m\u001b[0m\n\u001b[0m\u001b[1;32m    181\u001b[0m \u001b[0;34m\u001b[0m\u001b[0m\n\u001b[1;32m    182\u001b[0m \u001b[0;34m\u001b[0m\u001b[0m\n",
      "\u001b[0;31mAttributeError\u001b[0m: 'str' object has no attribute 'write'"
     ]
    }
   ],
   "source": [
    "out = json.loads(pipeline.definition())\n",
    "json.dump(json.loads(pipeline.definition()), \"pipe.json\")"
   ]
  },
  {
   "cell_type": "code",
   "execution_count": 10,
   "id": "d93cc105-2c36-429e-8664-1c9cbe01d19e",
   "metadata": {
    "tags": []
   },
   "outputs": [
    {
     "data": {
      "text/plain": [
       "{'Version': '2020-12-01',\n",
       " 'Metadata': {},\n",
       " 'Parameters': [],\n",
       " 'PipelineExperimentConfig': {'ExperimentName': {'Get': 'Execution.PipelineName'},\n",
       "  'TrialName': {'Get': 'Execution.PipelineExecutionId'}},\n",
       " 'Steps': [{'Name': 'XMLParsing-PreProcessing',\n",
       "   'Type': 'Processing',\n",
       "   'Arguments': {'ProcessingResources': {'ClusterConfig': {'InstanceType': 'ml.m5.xlarge',\n",
       "      'InstanceCount': 1,\n",
       "      'VolumeSizeInGB': 30}},\n",
       "    'AppSpecification': {'ImageUri': '257758044811.dkr.ecr.us-east-2.amazonaws.com/sagemaker-scikit-learn:1.0-1-cpu-py3',\n",
       "     'ContainerEntrypoint': ['python3',\n",
       "      '/opt/ml/processing/input/code/preprocessing.py']},\n",
       "    'RoleArn': 'arn:aws:iam::971709774307:role/service-role/AmazonSageMaker-ExecutionRole-20210304T113112',\n",
       "    'ProcessingInputs': [{'InputName': 'input-1',\n",
       "      'AppManaged': False,\n",
       "      'S3Input': {'S3Uri': 's3://cloudthat-cs-bucket/CibilFalse.xml',\n",
       "       'LocalPath': '/opt/ml/processing/input',\n",
       "       'S3DataType': 'S3Prefix',\n",
       "       'S3InputMode': 'File',\n",
       "       'S3DataDistributionType': 'FullyReplicated',\n",
       "       'S3CompressionType': 'None'}},\n",
       "     {'InputName': 'code',\n",
       "      'AppManaged': False,\n",
       "      'S3Input': {'S3Uri': 's3://sagemaker-us-east-2-971709774307/XMLParsing-PreProcessing-b7db6b54125d2cbec9f02890a105956d/input/code/preprocessing.py',\n",
       "       'LocalPath': '/opt/ml/processing/input/code',\n",
       "       'S3DataType': 'S3Prefix',\n",
       "       'S3InputMode': 'File',\n",
       "       'S3DataDistributionType': 'FullyReplicated',\n",
       "       'S3CompressionType': 'None'}}],\n",
       "    'ProcessingOutputConfig': {'Outputs': [{'OutputName': 'Header',\n",
       "       'AppManaged': False,\n",
       "       'S3Output': {'S3Uri': {'Std:Join': {'On': '/',\n",
       "          'Values': ['s3:/',\n",
       "           'sagemaker-us-east-2-971709774307',\n",
       "           'XMLParsing-PreProcessing-Pipeline',\n",
       "           {'Get': 'Execution.PipelineExecutionId'},\n",
       "           'XMLParsing-PreProcessing',\n",
       "           'output',\n",
       "           'Header']}},\n",
       "        'LocalPath': '/opt/ml/processing/Header',\n",
       "        'S3UploadMode': 'EndOfJob'}},\n",
       "      {'OutputName': 'NameSegment',\n",
       "       'AppManaged': False,\n",
       "       'S3Output': {'S3Uri': {'Std:Join': {'On': '/',\n",
       "          'Values': ['s3:/',\n",
       "           'sagemaker-us-east-2-971709774307',\n",
       "           'XMLParsing-PreProcessing-Pipeline',\n",
       "           {'Get': 'Execution.PipelineExecutionId'},\n",
       "           'XMLParsing-PreProcessing',\n",
       "           'output',\n",
       "           'NameSegment']}},\n",
       "        'LocalPath': '/opt/ml/processing/NameSegment',\n",
       "        'S3UploadMode': 'EndOfJob'}},\n",
       "      {'OutputName': 'IDSegment',\n",
       "       'AppManaged': False,\n",
       "       'S3Output': {'S3Uri': {'Std:Join': {'On': '/',\n",
       "          'Values': ['s3:/',\n",
       "           'sagemaker-us-east-2-971709774307',\n",
       "           'XMLParsing-PreProcessing-Pipeline',\n",
       "           {'Get': 'Execution.PipelineExecutionId'},\n",
       "           'XMLParsing-PreProcessing',\n",
       "           'output',\n",
       "           'IDSegment']}},\n",
       "        'LocalPath': '/opt/ml/processing/IDSegment',\n",
       "        'S3UploadMode': 'EndOfJob'}},\n",
       "      {'OutputName': 'TelephoneSegment',\n",
       "       'AppManaged': False,\n",
       "       'S3Output': {'S3Uri': {'Std:Join': {'On': '/',\n",
       "          'Values': ['s3:/',\n",
       "           'sagemaker-us-east-2-971709774307',\n",
       "           'XMLParsing-PreProcessing-Pipeline',\n",
       "           {'Get': 'Execution.PipelineExecutionId'},\n",
       "           'XMLParsing-PreProcessing',\n",
       "           'output',\n",
       "           'TelephoneSegment']}},\n",
       "        'LocalPath': '/opt/ml/processing/TelephoneSegment',\n",
       "        'S3UploadMode': 'EndOfJob'}},\n",
       "      {'OutputName': 'EmailContactSegment',\n",
       "       'AppManaged': False,\n",
       "       'S3Output': {'S3Uri': {'Std:Join': {'On': '/',\n",
       "          'Values': ['s3:/',\n",
       "           'sagemaker-us-east-2-971709774307',\n",
       "           'XMLParsing-PreProcessing-Pipeline',\n",
       "           {'Get': 'Execution.PipelineExecutionId'},\n",
       "           'XMLParsing-PreProcessing',\n",
       "           'output',\n",
       "           'EmailContactSegment']}},\n",
       "        'LocalPath': '/opt/ml/processing/EmailContactSegment',\n",
       "        'S3UploadMode': 'EndOfJob'}},\n",
       "      {'OutputName': 'Address',\n",
       "       'AppManaged': False,\n",
       "       'S3Output': {'S3Uri': {'Std:Join': {'On': '/',\n",
       "          'Values': ['s3:/',\n",
       "           'sagemaker-us-east-2-971709774307',\n",
       "           'XMLParsing-PreProcessing-Pipeline',\n",
       "           {'Get': 'Execution.PipelineExecutionId'},\n",
       "           'XMLParsing-PreProcessing',\n",
       "           'output',\n",
       "           'Address']}},\n",
       "        'LocalPath': '/opt/ml/processing/Address',\n",
       "        'S3UploadMode': 'EndOfJob'}},\n",
       "      {'OutputName': 'ScoreSegment',\n",
       "       'AppManaged': False,\n",
       "       'S3Output': {'S3Uri': {'Std:Join': {'On': '/',\n",
       "          'Values': ['s3:/',\n",
       "           'sagemaker-us-east-2-971709774307',\n",
       "           'XMLParsing-PreProcessing-Pipeline',\n",
       "           {'Get': 'Execution.PipelineExecutionId'},\n",
       "           'XMLParsing-PreProcessing',\n",
       "           'output',\n",
       "           'ScoreSegment']}},\n",
       "        'LocalPath': '/opt/ml/processing/ScoreSegment',\n",
       "        'S3UploadMode': 'EndOfJob'}},\n",
       "      {'OutputName': 'BureauCharacterstics',\n",
       "       'AppManaged': False,\n",
       "       'S3Output': {'S3Uri': {'Std:Join': {'On': '/',\n",
       "          'Values': ['s3:/',\n",
       "           'sagemaker-us-east-2-971709774307',\n",
       "           'XMLParsing-PreProcessing-Pipeline',\n",
       "           {'Get': 'Execution.PipelineExecutionId'},\n",
       "           'XMLParsing-PreProcessing',\n",
       "           'output',\n",
       "           'BureauCharacterstics']}},\n",
       "        'LocalPath': '/opt/ml/processing/BureauCharacterstics',\n",
       "        'S3UploadMode': 'EndOfJob'}},\n",
       "      {'OutputName': 'Account_Final',\n",
       "       'AppManaged': False,\n",
       "       'S3Output': {'S3Uri': {'Std:Join': {'On': '/',\n",
       "          'Values': ['s3:/',\n",
       "           'sagemaker-us-east-2-971709774307',\n",
       "           'XMLParsing-PreProcessing-Pipeline',\n",
       "           {'Get': 'Execution.PipelineExecutionId'},\n",
       "           'XMLParsing-PreProcessing',\n",
       "           'output',\n",
       "           'Account_Final']}},\n",
       "        'LocalPath': '/opt/ml/processing/Account_Final',\n",
       "        'S3UploadMode': 'EndOfJob'}}]}}}]}"
      ]
     },
     "execution_count": 10,
     "metadata": {},
     "output_type": "execute_result"
    }
   ],
   "source": [
    "import json \n",
    "json.loads(pipeline.definition())"
   ]
  }
 ],
 "metadata": {
  "instance_type": "ml.t3.medium",
  "kernelspec": {
   "display_name": "Python 3 (Data Science)",
   "language": "python",
   "name": "python3__SAGEMAKER_INTERNAL__arn:aws:sagemaker:us-east-2:429704687514:image/datascience-1.0"
  },
  "language_info": {
   "codemirror_mode": {
    "name": "ipython",
    "version": 3
   },
   "file_extension": ".py",
   "mimetype": "text/x-python",
   "name": "python",
   "nbconvert_exporter": "python",
   "pygments_lexer": "ipython3",
   "version": "3.7.10"
  }
 },
 "nbformat": 4,
 "nbformat_minor": 5
}
