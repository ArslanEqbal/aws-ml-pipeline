{
 "cells": [
  {
   "cell_type": "code",
   "execution_count": 2,
   "id": "39b43522-0882-446f-bb5b-ed77f7801de5",
   "metadata": {
    "tags": []
   },
   "outputs": [
    {
     "name": "stdout",
     "output_type": "stream",
     "text": [
      "Writing PreprocessingPipeline.py\n"
     ]
    }
   ],
   "source": [
    "%%writefile PreprocessingPipeline.py\n",
    "\n",
    "import boto3\n",
    "import sagemaker\n",
    "from sagemaker import get_execution_role\n",
    "from sagemaker.sklearn.processing import SKLearnProcessor\n",
    "from sagemaker.xgboost.estimator import XGBoost\n",
    "\n",
    "sagemaker_session = sagemaker.session.Session()\n",
    "\n",
    "region = boto3.session.Session().region_name\n",
    "role = get_execution_role()\n",
    "from sagemaker.sklearn.processing import SKLearnProcessor\n",
    "from sagemaker.workflow.steps import ProcessingStep, TrainingStep\n",
    "from sagemaker.workflow.parameters import ParameterInteger, ParameterFloat, ParameterString\n",
    "#-----------------------------------------------\n",
    "\n",
    "sklearn_processor = SKLearnProcessor(framework_version='1.0-1',\n",
    "                                     role=role,\n",
    "                                     instance_type='ml.m5.xlarge',\n",
    "                                     instance_count=1)\n",
    "\n",
    "input_data = \"s3://cloudthat-cs-bucket/CibilFalse.xml\"\n",
    "model_path = f\"s3://sagemaker-cloudthat-mlosp/model_path\"\n",
    "\n",
    "from sagemaker.processing import ProcessingInput, ProcessingOutput\n",
    "from sagemaker.workflow.steps import ProcessingStep\n",
    "    \n",
    "\n",
    "step_process = ProcessingStep(\n",
    "    name=\"XML-to-FeatureStore\",\n",
    "    inputs=[ProcessingInput(source=input_data, destination=\"/opt/ml/processing/input\")],\n",
    "     outputs=[],  \n",
    "    code=\"PreProcessing.py\",\n",
    "    processor=sklearn_processor\n",
    ")\n",
    "\n",
    "#-----------------------------------------------\n",
    "\n",
    "create_dataset_processor = SKLearnProcessor(framework_version=\"1.0-1\",\n",
    "                                            role=role,\n",
    "                                            instance_type=\"ml.m5.xlarge\",\n",
    "                                            instance_count=1)\n",
    "\n",
    "\n",
    "\n",
    "create_dataset_step_process = ProcessingStep(\n",
    "    name=\"Create-Dataset\",\n",
    "    outputs=[\n",
    "        sagemaker.processing.ProcessingOutput(\n",
    "            output_name=\"train_data\", source=\"/opt/ml/processing/output/train\"\n",
    "        ),\n",
    "        sagemaker.processing.ProcessingOutput(\n",
    "            output_name=\"test_data\", source=\"/opt/ml/processing/output/test\"\n",
    "        ),\n",
    "    ], \n",
    "    code=\"create_dataset.py\",\n",
    "    processor=create_dataset_processor,\n",
    "    depends_on=[step_process.name]\n",
    ")\n",
    "\n",
    "\n",
    "#-----------------------------------------------\n",
    "\n",
    "from sagemaker.workflow.pipeline import Pipeline\n",
    "\n",
    "processing_instance_count = 1\n",
    "\n",
    "pipeline_name = f\"ProcessingPipeline\"\n",
    "pipeline = Pipeline(\n",
    "    name=pipeline_name,\n",
    "    parameters=[\n",
    "        processing_instance_count],\n",
    "    steps=[step_process, create_dataset_step_process],\n",
    ")\n",
    "\n",
    "pipeline.upsert(role_arn=role)\n",
    "\n",
    "execution = pipeline.start()\n"
   ]
  },
  {
   "cell_type": "code",
   "execution_count": null,
   "id": "a04acc52-fee9-4fb6-b7d5-86498866f7e1",
   "metadata": {},
   "outputs": [],
   "source": []
  }
 ],
 "metadata": {
  "instance_type": "ml.t3.medium",
  "kernelspec": {
   "display_name": "Python 3 (Data Science)",
   "language": "python",
   "name": "python3__SAGEMAKER_INTERNAL__arn:aws:sagemaker:us-east-2:429704687514:image/datascience-1.0"
  },
  "language_info": {
   "codemirror_mode": {
    "name": "ipython",
    "version": 3
   },
   "file_extension": ".py",
   "mimetype": "text/x-python",
   "name": "python",
   "nbconvert_exporter": "python",
   "pygments_lexer": "ipython3",
   "version": "3.7.10"
  }
 },
 "nbformat": 4,
 "nbformat_minor": 5
}
